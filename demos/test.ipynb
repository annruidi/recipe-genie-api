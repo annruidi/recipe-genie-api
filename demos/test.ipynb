{
 "cells": [
  {
   "cell_type": "code",
   "execution_count": null,
   "metadata": {},
   "outputs": [],
   "source": [
    "import base64\n",
    "import requests\n",
    "from torchvision import transforms\n",
    "import matplotlib.pyplot as plt\n",
    "from PIL import Image\n",
    "from io import BytesIO\n",
    "\n",
    "path = './data/demo_imgs/1.jpg'\n",
    "\n",
    "\n",
    "image_file = Image.open(path)\n",
    "\n",
    "buffered = BytesIO()\n",
    "image_file.save(buffered, format=\"JPEG\")\n",
    "img_str = base64.b64encode(buffered.getvalue()).decode('utf-8')\n",
    "\n",
    "print(img_str)\n",
    "\n",
    "url = 'https://6oruf28jj7.execute-api.eu-north-1.amazonaws.com/dev/transform'\n",
    "\n",
    "data = {\n",
    "    \"image\": img_str\n",
    "}"
   ]
  },
  {
   "cell_type": "code",
   "execution_count": null,
   "metadata": {},
   "outputs": [],
   "source": [
    "\n",
    "try:\n",
    "    response = requests.post(url, json=data)\n",
    "    print(response)\n",
    "except Exception as err:\n",
    "    print(err)"
   ]
  },
  {
   "cell_type": "code",
   "execution_count": null,
   "metadata": {},
   "outputs": [],
   "source": [
    "result = response.json()\n",
    "x = result\n",
    "print(result)\n"
   ]
  },
  {
   "cell_type": "markdown",
   "metadata": {},
   "source": []
  },
  {
   "cell_type": "markdown",
   "metadata": {},
   "source": []
  }
 ],
 "metadata": {
  "kernelspec": {
   "display_name": "Python 3.11.4 ('MSC_PROJECT')",
   "language": "python",
   "name": "python3"
  },
  "language_info": {
   "codemirror_mode": {
    "name": "ipython",
    "version": 3
   },
   "file_extension": ".py",
   "mimetype": "text/x-python",
   "name": "python",
   "nbconvert_exporter": "python",
   "pygments_lexer": "ipython3",
   "version": "3.11.4"
  },
  "orig_nbformat": 4,
  "vscode": {
   "interpreter": {
    "hash": "3a548c85aa3a3641741fe44018eb8395d3d8ab6c2dc6c8c710d0eb91a912b578"
   }
  }
 },
 "nbformat": 4,
 "nbformat_minor": 2
}
